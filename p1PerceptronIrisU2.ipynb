{
  "nbformat": 4,
  "nbformat_minor": 0,
  "metadata": {
    "colab": {
      "provenance": [],
      "authorship_tag": "ABX9TyNLhrQfGGMKq0TJOZstc8so",
      "include_colab_link": true
    },
    "kernelspec": {
      "name": "python3",
      "display_name": "Python 3"
    },
    "language_info": {
      "name": "python"
    }
  },
  "cells": [
    {
      "cell_type": "markdown",
      "metadata": {
        "id": "view-in-github",
        "colab_type": "text"
      },
      "source": [
        "<a href=\"https://colab.research.google.com/github/antonio1134/IA-ACS/blob/main/p1PerceptronIrisU2.ipynb\" target=\"_parent\"><img src=\"https://colab.research.google.com/assets/colab-badge.svg\" alt=\"Open In Colab\"/></a>"
      ]
    },
    {
      "cell_type": "markdown",
      "source": [
        "\n",
        "    NumPy para operaciones con matrices y algebra lineal.\n",
        "    Pandas para manipulacion de datos. (Para este caso se usa para cargar y procesar el conjunto de datos Iris).\n",
        "    Matplotlib visualización de datos\n"
      ],
      "metadata": {
        "id": "8l4UjUxG0Ldn"
      }
    },
    {
      "cell_type": "code",
      "execution_count": null,
      "metadata": {
        "id": "8m3CoXwNzacX"
      },
      "outputs": [],
      "source": [
        "from IPython.display import Image  #graficos\n",
        "import numpy as np                 #operaciónes matriciales\n",
        "class Perceptron(object):          #clase percetron\n",
        "    def _init_(self, eta=0.01, n_inter=50, random_state=1): #definicion constructor\n",
        "        self.eta = eta             #Parametro 1\n",
        "        self.n_inter = n_inter     #Parametro 2\n",
        "        self.random_state = random_state  #Parametro 3"
      ]
    },
    {
      "cell_type": "markdown",
      "source": [
        "\n",
        "    eta: tasa de aprendizaje controla cuándo se ajustan los pesos en cada paso.\n",
        "    n_iter: número de iteraciones o épocas.\n",
        "    random_state: garanriza reproductibilidad, inicializa los pesos de manera aleatoria.\n"
      ],
      "metadata": {
        "id": "2AnJpT9L0MC6"
      }
    },
    {
      "cell_type": "code",
      "source": [
        "def fit(self, X, y):\n",
        "        rgen = np.random.RandomState(self.random_state)\n",
        "        self.w_ = rgen.normal(loc=0.0, scale=0.01, size=1 + X.shape[1])\n",
        "        self.errors_ = []\n",
        "\n",
        "        for _ in range(self.n_iter):\n",
        "            errors = 0\n",
        "            for xi, target in zip(X, y):\n",
        "                update = self.eta * (target - self.predict(xi))\n",
        "                self.w_[1:] += update * xi\n",
        "                self.w_[0] += update\n",
        "                errors += int(update != 0.0)\n",
        "            self.errors_.append(errors)\n",
        "        return self"
      ],
      "metadata": {
        "id": "ZdEFef740MvK"
      },
      "execution_count": null,
      "outputs": []
    },
    {
      "cell_type": "markdown",
      "source": [
        "\n",
        "\n",
        "Método FIT ajusta los datos de entrenamiento. La variable x es la matriz de características con Y son sus etiquetas correspondientes.\n",
        "\n",
        "self.w_ se inicializan los pesos aleatoriamente. En el vector w_ se incluyen un peso adicional para el sessgo en la posición w_[0]. *update, self.w_[1:], self.w_[0] evalua si la predcicción no coincide con un valor real, se ajusta los pesos de forma proporcinal entre la predicción y el valor del objeto [xi] multiplicado por la taza de aprendizje, y los errores de almacen en la lista errors_para cada epoca.\n"
      ],
      "metadata": {
        "id": "q46LkUxU0jsc"
      }
    },
    {
      "cell_type": "code",
      "source": [
        "def net_input(self, X):\n",
        "        return np.dot(X, self.w_[1:]) + self.w_[0]\n",
        "\n",
        "def predict(self, X):\n",
        "        return np.where(self.net_input(X) >= 0.0, 1, -1)"
      ],
      "metadata": {
        "id": "mMImz7ww0kCR"
      },
      "execution_count": null,
      "outputs": []
    },
    {
      "cell_type": "markdown",
      "source": [
        "\n",
        "    NET_INPUT: Calcula la suma ponderada de las entradas y los pesos.\n",
        "    predict: Devuelve la predicción de la clase(-1 o 1) aplicando la función de activación.\n"
      ],
      "metadata": {
        "id": "V-ysVDcU0uf9"
      }
    },
    {
      "cell_type": "code",
      "source": [
        "v1 = np.array([1, 2, 3])\n",
        "v2 = 0.5 * v1\n",
        "np.arccos(v1.dot(v2) / (np.linalg.norm(v1) * np.linalg.norm(v2)))\n",
        "import pandas as pd\n",
        "df = pd.read_csv('https://archive.ics.uci.edu/ml/machine-learning-databases/iris/iris.data', header=None)\n",
        "df.tail()"
      ],
      "metadata": {
        "id": "LUG4_8SF0vU6"
      },
      "execution_count": null,
      "outputs": []
    },
    {
      "cell_type": "markdown",
      "source": [
        "\n",
        "\n",
        "Calcular el ángulo en radianes entre dos vectores v1 y v2 usando el coseno del ángulo.\n",
        "\n",
        "df: carga el conjunto de datos Iris que contiene 150 ejemplos de tres especies de iris ( setosa, versicolor, virgínica), para este ejemplo solo se toman 100 (50 setosa y 50 versicolor)\n"
      ],
      "metadata": {
        "id": "OVzdoElW0-St"
      }
    },
    {
      "cell_type": "code",
      "source": [
        "import matplotlib.pyplot as plt\n",
        "#import numpy as np\n",
        "#seleccionar setosa y versicolor\n",
        "y = df.iloc[0:100, 4].values\n",
        "y = np.where(y == 'Iris-setosa', -1, 1)\n",
        "\n",
        "#extraer logitud de sépalo y longitud de pétalo\n",
        "x = df.iloc[0:100, [0, 2]].values\n",
        "\n",
        "#representar los datos forma de grafico\n",
        "plt.scatter(x[:50, 0], x[:50, 1],\n",
        "            color='red', marker='o', label='setosa')\n",
        "plt.scatter(x[50:100, 0], x[50:100, 1], color='blue',\n",
        "            marker='x', label='versicolor')\n",
        "\n",
        "plt.xlabel('longitud del sépalo (cm)')\n",
        "plt.ylabel('longitud del pétalo (cm)')\n",
        "plt.legend(loc='upper left')\n",
        "plt.show()"
      ],
      "metadata": {
        "colab": {
          "base_uri": "https://localhost:8080/",
          "height": 450
        },
        "id": "XH435ku70-ot",
        "outputId": "ffd246a5-374b-414c-e14a-745b523a31ec"
      },
      "execution_count": null,
      "outputs": [
        {
          "output_type": "display_data",
          "data": {
            "text/plain": [
              "<Figure size 640x480 with 1 Axes>"
            ],
            "image/png": "[encoded data removed]"
          },
          "metadata": {}
        }
      ]
    },
    {
      "cell_type": "markdown",
      "source": [],
      "metadata": {
        "id": "JDaYcYba1GTr"
      }
    },
    {
      "cell_type": "code",
      "source": [
        "# librerias necesarias\n",
        "import matplotlib.pyplot as plt\n",
        "from sklearn.linear_model import Perceptron\n",
        "\n",
        "\n",
        "#Entrenar el modelo de perceptrón\n",
        "ppn = Perceptron(eta0=0.1, max_iter=10, random_state=1)  # Se usa 'eta0' en lugar de 'eta' en sklearn\n",
        "ppn.fit(x, y)\n",
        "\n",
        "# graficacion actualizaciones (errores)\n",
        "plt.plot(range(1, len(ppn.n_iter_) + 1), ppn.n_iter_ * [ppn.n_iter_], marker='o')\n",
        "plt.xlabel('Epochs')\n",
        "plt.ylabel('Number of updates')\n",
        "\n",
        "plt.show()"
      ],
      "metadata": {
        "id": "kdAm8AYS1G1X",
        "outputId": "0d13d43c-f1a2-4a0b-b928-5e977e06eeb5",
        "colab": {
          "base_uri": "https://localhost:8080/",
          "height": 211
        }
      },
      "execution_count": 8,
      "outputs": [
        {
          "output_type": "error",
          "ename": "TypeError",
          "evalue": "object of type 'int' has no len()",
          "traceback": [
            "\u001b[0;31m---------------------------------------------------------------------------\u001b[0m",
            "\u001b[0;31mTypeError\u001b[0m                                 Traceback (most recent call last)",
            "\u001b[0;32m<ipython-input-8-f3ab4c97ad7d>\u001b[0m in \u001b[0;36m<cell line: 11>\u001b[0;34m()\u001b[0m\n\u001b[1;32m      9\u001b[0m \u001b[0;34m\u001b[0m\u001b[0m\n\u001b[1;32m     10\u001b[0m \u001b[0;31m# graficacion actualizaciones (errores)\u001b[0m\u001b[0;34m\u001b[0m\u001b[0;34m\u001b[0m\u001b[0m\n\u001b[0;32m---> 11\u001b[0;31m \u001b[0mplt\u001b[0m\u001b[0;34m.\u001b[0m\u001b[0mplot\u001b[0m\u001b[0;34m(\u001b[0m\u001b[0mrange\u001b[0m\u001b[0;34m(\u001b[0m\u001b[0;36m1\u001b[0m\u001b[0;34m,\u001b[0m \u001b[0mlen\u001b[0m\u001b[0;34m(\u001b[0m\u001b[0mppn\u001b[0m\u001b[0;34m.\u001b[0m\u001b[0mn_iter_\u001b[0m\u001b[0;34m)\u001b[0m \u001b[0;34m+\u001b[0m \u001b[0;36m1\u001b[0m\u001b[0;34m)\u001b[0m\u001b[0;34m,\u001b[0m \u001b[0mppn\u001b[0m\u001b[0;34m.\u001b[0m\u001b[0mn_iter_\u001b[0m \u001b[0;34m*\u001b[0m \u001b[0;34m[\u001b[0m\u001b[0mppn\u001b[0m\u001b[0;34m.\u001b[0m\u001b[0mn_iter_\u001b[0m\u001b[0;34m]\u001b[0m\u001b[0;34m,\u001b[0m \u001b[0mmarker\u001b[0m\u001b[0;34m=\u001b[0m\u001b[0;34m'o'\u001b[0m\u001b[0;34m)\u001b[0m\u001b[0;34m\u001b[0m\u001b[0;34m\u001b[0m\u001b[0m\n\u001b[0m\u001b[1;32m     12\u001b[0m \u001b[0mplt\u001b[0m\u001b[0;34m.\u001b[0m\u001b[0mxlabel\u001b[0m\u001b[0;34m(\u001b[0m\u001b[0;34m'Epochs'\u001b[0m\u001b[0;34m)\u001b[0m\u001b[0;34m\u001b[0m\u001b[0;34m\u001b[0m\u001b[0m\n\u001b[1;32m     13\u001b[0m \u001b[0mplt\u001b[0m\u001b[0;34m.\u001b[0m\u001b[0mylabel\u001b[0m\u001b[0;34m(\u001b[0m\u001b[0;34m'Number of updates'\u001b[0m\u001b[0;34m)\u001b[0m\u001b[0;34m\u001b[0m\u001b[0;34m\u001b[0m\u001b[0m\n",
            "\u001b[0;31mTypeError\u001b[0m: object of type 'int' has no len()"
          ]
        }
      ]
    }
  ]
}