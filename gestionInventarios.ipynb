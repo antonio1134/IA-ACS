{
  "nbformat": 4,
  "nbformat_minor": 0,
  "metadata": {
    "colab": {
      "provenance": [],
      "authorship_tag": "ABX9TyNVbB8DYuJixYEXaEIWj3MK",
      "include_colab_link": true
    },
    "kernelspec": {
      "name": "python3",
      "display_name": "Python 3"
    },
    "language_info": {
      "name": "python"
    }
  },
  "cells": [
    {
      "cell_type": "markdown",
      "metadata": {
        "id": "view-in-github",
        "colab_type": "text"
      },
      "source": [
        "<a href=\"https://colab.research.google.com/github/antonio1134/IA-ACS/blob/main/gestionInventarios.ipynb\" target=\"_parent\"><img src=\"https://colab.research.google.com/assets/colab-badge.svg\" alt=\"Open In Colab\"/></a>"
      ]
    },
    {
      "cell_type": "markdown",
      "source": [
        "En el desarrollo de este programa se empleara el uso de de una lista y funciones para un manejo sobre esta, un ciclo while para mantener la ejecucion del programa y asi adecuarlo al menu de opciones"
      ],
      "metadata": {
        "id": "JJRpUULBQedp"
      }
    },
    {
      "cell_type": "markdown",
      "source": [
        "en esta funcion donde agrega un producto a la lista inventario, utilizando los parametros nombre, cantidad, precio; utilizando el metodo inventario.'append' nos permitira agregar un valor al final de la lista e imprime el valor agregado."
      ],
      "metadata": {
        "id": "Y3R9wvU9b3f4"
      }
    },
    {
      "cell_type": "code",
      "source": [
        "def agreRep(inventario, nombre, cantidad, precio):\n",
        "    'Agregar repuesto al inventario.'\n",
        "    inventario.append({'nombre': nombre, 'cantidad': cantidad, 'precio': precio})\n",
        "    print(f'Repuesto {nombre} agregado correctamente.')\n"
      ],
      "metadata": {
        "id": "PdY2va5SQfKd"
      },
      "execution_count": null,
      "outputs": []
    },
    {
      "cell_type": "markdown",
      "source": [
        "en esta funcion eliminar, se busca dentro de la lista inventario, el repuesto si se encuentra se podra eliminar usando .remove sino retorna que no existe"
      ],
      "metadata": {
        "id": "ar2YK5k9czpi"
      }
    },
    {
      "cell_type": "code",
      "source": [
        "def eliRep(inventario, nombre):\n",
        "    'Eliminar repuesto del inventario.'\n",
        "    for repuesto in inventario:\n",
        "        if repuesto['nombre'] == nombre:\n",
        "            inventario.remove(repuesto)\n",
        "            print(f'Repuesto {nombre} eliminado.')\n",
        "            return\n",
        "    print(f'Repuesto {nombre} no encontrado.')\n"
      ],
      "metadata": {
        "id": "uAdFQzXnc2j4"
      },
      "execution_count": null,
      "outputs": []
    },
    {
      "cell_type": "markdown",
      "source": [
        "la funcion que recibe la lista y el parametro nombre, permitira consultar el valor si dicho valor es existente dentro de la lista sino retornara que no existe el valor dentro de la lista"
      ],
      "metadata": {
        "id": "zkhA-k6SdZ6B"
      }
    },
    {
      "cell_type": "code",
      "source": [
        "def consuRep(inventario, nombre):\n",
        "    'Consultar cantidad de repuesto.'\n",
        "    for repuesto in inventario:\n",
        "        if repuesto['nombre'] == nombre:\n",
        "            print(f'Cantidad disponible de \\'{nombre}\\': {repuesto[\"cantidad\"]}')\n",
        "            return\n",
        "    print(f'Repuesto {nombre} no encontrado.')\n",
        "\n"
      ],
      "metadata": {
        "id": "YxQaDH9AdaVq"
      },
      "execution_count": null,
      "outputs": []
    },
    {
      "cell_type": "markdown",
      "source": [
        "dentro de la lista inventario, permite realizar una compra de ciertos repuestos ya existentes, solicitando nombre y cantidad del repuesto a comprar, con esto se permitira comprar y modificar la lista con el nuevo valor, al final mostrara si se realizo una compra y la descripcion de esta, sino retorna que no se encontro el repuesto"
      ],
      "metadata": {
        "id": "SKp4UUvjdehL"
      }
    },
    {
      "cell_type": "code",
      "source": [
        "def reaCompra(inventario, nombre, cantidad):\n",
        "    'Comprar repuesto existente.'\n",
        "    for repuesto in inventario:\n",
        "        if repuesto['nombre'] == nombre:\n",
        "            repuesto['cantidad'] += cantidad\n",
        "            print(f'Compra realizada. Nueva cantidad {nombre}: {repuesto[\"cantidad\"]}')\n",
        "            return\n",
        "    print(f'Repuesto {nombre} no encontrado.')"
      ],
      "metadata": {
        "id": "PfdnU5tOdezF"
      },
      "execution_count": null,
      "outputs": []
    },
    {
      "cell_type": "markdown",
      "source": [
        "muestra el inventario, sino existe dicho inventario mostrara que esta vacio, sino mostrara todos los valores guardados dentro de la lista inventario"
      ],
      "metadata": {
        "id": "QnUbIX6-dnDO"
      }
    },
    {
      "cell_type": "code",
      "source": [
        "def mosInv(inventario):\n",
        "    'Mostrar inventario.'\n",
        "    if not inventario:\n",
        "        print('El inventario está vacío.')\n",
        "    else:\n",
        "        print('Inventario de Repuestos:')\n",
        "        for repuesto in inventario:\n",
        "            print(f'Nombre: {repuesto[\"nombre\"]}, Cantidad: {repuesto[\"cantidad\"]}, Precio: {repuesto[\"precio\"]}')\n"
      ],
      "metadata": {
        "id": "QAJyEVWidmZJ"
      },
      "execution_count": null,
      "outputs": []
    },
    {
      "cell_type": "markdown",
      "source": [
        "la funcion menu, se define inventario como lista, y se inicializa un ciclo while que nos permite mantener el menu abierto hasta digitar el 6 equivalente a la salida."
      ],
      "metadata": {
        "id": "QPnz4B9SdomC"
      }
    },
    {
      "cell_type": "markdown",
      "source": [
        "utilizando condicionales if, elif y else, para el manejo de las opciones del menu. dentro de cada opcion y con los atributos correspondientes se le solicita al usuario usando 'input'digitar los valores los cuales guarda en las variables y se les agrega la variable para el manejo del dato"
      ],
      "metadata": {
        "id": "oIOYsZHFfOmX"
      }
    },
    {
      "cell_type": "code",
      "source": [
        "def menu():\n",
        "    inventario = []\n",
        "\n",
        "    while True:\n",
        "        print('\\n- Taller Automotriz -  EL PELON -')\n",
        "        print('1. Agregar')\n",
        "        print('2. Eliminar')\n",
        "        print('3. Consultar')\n",
        "        print('4. Comprar')\n",
        "        print('5. Inventario')\n",
        "        print('6. Salir')\n",
        "\n",
        "        opcion = input('Opciones(1-6): ')\n",
        "\n",
        "        if opcion == '1':\n",
        "            nombre = input('Nombre: ')\n",
        "            cantidad = int(input('Cantidad: '))\n",
        "            precio = float(input('Precio u: '))\n",
        "            agreRep(inventario, nombre, cantidad, precio)\n",
        "        elif opcion == '2':\n",
        "            nombre = input('Eliminar repuesto: ')\n",
        "            eliRep(inventario, nombre)\n",
        "        elif opcion == '3':\n",
        "            nombre = input('Consultar repuesto: ')\n",
        "            consuRep(inventario, nombre)\n",
        "        elif opcion == '4':\n",
        "            nombre = input('Comprar repuesto: ')\n",
        "            cantidad = int(input('Cantidad a comprar: '))\n",
        "            reaCompra(inventario, nombre, cantidad)\n",
        "        elif opcion == '5':\n",
        "            mosInv(inventario)\n",
        "        elif opcion == '6':\n",
        "            print('Cerrando programa')\n",
        "            break\n",
        "        else:\n",
        "            print('Opción invalida, escoge una valida.')\n"
      ],
      "metadata": {
        "id": "icXuDeE5dpRx"
      },
      "execution_count": null,
      "outputs": []
    },
    {
      "cell_type": "markdown",
      "source": [
        "al hacer esta igualacion, se toma la funcion ingresada (menu()) como main y se ejecuta, siendo esta la funcion ejecutable"
      ],
      "metadata": {
        "id": "nvWQSPAedxD4"
      }
    },
    {
      "cell_type": "code",
      "source": [
        "if __name__ == '__main__':\n",
        "    menu()"
      ],
      "metadata": {
        "colab": {
          "base_uri": "https://localhost:8080/"
        },
        "id": "vl0Zlgj9dwab",
        "outputId": "741254d3-a295-40a9-82e9-4b28ccdb32b5"
      },
      "execution_count": null,
      "outputs": [
        {
          "output_type": "stream",
          "name": "stdout",
          "text": [
            "\n",
            "- Taller Automotriz -  EL PELON -\n",
            "1. Agregar\n",
            "2. Eliminar\n",
            "3. Consultar\n",
            "4. Comprar\n",
            "5. Inventario\n",
            "6. Salir\n"
          ]
        }
      ]
    },
    {
      "cell_type": "markdown",
      "source": [],
      "metadata": {
        "id": "HvjL9oxudwJX"
      }
    }
  ]
}