{
  "nbformat": 4,
  "nbformat_minor": 0,
  "metadata": {
    "colab": {
      "provenance": [],
      "authorship_tag": "ABX9TyOm8UPPCvR7NMemVe4u1PmK",
      "include_colab_link": true
    },
    "kernelspec": {
      "name": "python3",
      "display_name": "Python 3"
    },
    "language_info": {
      "name": "python"
    }
  },
  "cells": [
    {
      "cell_type": "markdown",
      "metadata": {
        "id": "view-in-github",
        "colab_type": "text"
      },
      "source": [
        "<a href=\"https://colab.research.google.com/github/antonio1134/IA-ACS/blob/main/evaluacionU1.ipynb\" target=\"_parent\"><img src=\"https://colab.research.google.com/assets/colab-badge.svg\" alt=\"Open In Colab\"/></a>"
      ]
    },
    {
      "cell_type": "markdown",
      "source": [
        "funcion que toma como parametro x0 y x1, en la cual hace las operaciones pertinentes para obtener el valor de resultante,previamente modificado para realizar la compuerta AND"
      ],
      "metadata": {
        "id": "LNrofLxencNx"
      }
    },
    {
      "cell_type": "code",
      "execution_count": null,
      "metadata": {
        "id": "4vSPmMhcgib-"
      },
      "outputs": [],
      "source": [
        "def calculate_and(x0, x1):\n",
        "    w = [0.5, 0.5] #peso compuerta\n",
        "\n",
        "    s = x0 * w[0] + x1 * w[1] #calculo suma\n",
        "\n",
        "    y = 1 if s >= 1 else 0 #umbral\n",
        "    return y\n",
        "\n"
      ]
    },
    {
      "cell_type": "markdown",
      "source": [
        "funcion que toma como parametro x0 y x1, en la cual hace las operaciones pertinentes para obtener el valor de resultante,previamente modificado para realizar la compuerta OR\n"
      ],
      "metadata": {
        "id": "fPKlKZs-g5NW"
      }
    },
    {
      "cell_type": "code",
      "source": [
        "def calculate_or(x0, x1):\n",
        "    w = [0.5, 0.5] #peso compuerta\n",
        "\n",
        "    s = x0 * w[0] + x1 * w[1] #calculo suma\n",
        "\n",
        "    y = 1 if s >= 0.5 else 0 #umbral\n",
        "    return y\n"
      ],
      "metadata": {
        "id": "4Ut3GTIhg5pz"
      },
      "execution_count": null,
      "outputs": []
    },
    {
      "cell_type": "markdown",
      "source": [
        "funcion menu, donde se manda a llamar a las funciones calculate_and y calculate_or, de igual manera ejecuta el ciclo hasta que el usuario escoja la opcion de salirse del programa, mientras permitira la ejecucion de este, recibiendo como entrada x0 y x1;"
      ],
      "metadata": {
        "id": "rX1ZaR7XhJBa"
      }
    },
    {
      "cell_type": "code",
      "source": [
        "def menu():\n",
        "    while True:\n",
        "        print(\"1. Ingresa valores de x0, x1\")\n",
        "        print(\"2. Salir\")\n",
        "\n",
        "        opcion = input('Opción: ')\n",
        "\n",
        "        if opcion == \"1\":\n",
        "            try:\n",
        "\n",
        "                x0 = int(input(\"Ingresa x0 (0 o 1): \"))\n",
        "                x1 = int(input(\"Ingresa x1 (0 o 1): \"))\n",
        "\n",
        "                # Validación de valores\n",
        "                if x0 not in [0, 1] or x1 not in [0, 1]:\n",
        "                    print(\"Por favor, ingrese valores válidos (0 o 1).\")\n",
        "                    continue\n",
        "\n",
        "                # Calcula y guarda los valores\n",
        "                resultado_and = calculate_and(x0, x1)\n",
        "                resultado_or = calculate_or(x0, x1)\n",
        "\n",
        "                # Muestra los resultados\n",
        "                print(f\"\\nResultado de {x0} AND {x1} = {resultado_and}\")\n",
        "                print(f\"Resultado de {x0} OR {x1} = {resultado_or}\\n\")\n",
        "\n",
        "            except ValueError:\n",
        "                print(\"Por favor, ingrese valores numéricos.\")\n",
        "\n",
        "        elif opcion == \"2\":\n",
        "            print(\"Cerrando...\")\n",
        "            break\n",
        "        else:\n",
        "            print(\"Opción no válida. Inténtalo de nuevo.\")\n",
        "\n"
      ],
      "metadata": {
        "id": "K68INpX5hLi_"
      },
      "execution_count": null,
      "outputs": []
    },
    {
      "cell_type": "markdown",
      "source": [
        "ejecutar la funcion principal menu"
      ],
      "metadata": {
        "id": "vpEEm_rQpLkI"
      }
    },
    {
      "cell_type": "code",
      "source": [
        "menu()"
      ],
      "metadata": {
        "id": "gD7tiqfSrqOd"
      },
      "execution_count": null,
      "outputs": []
    }
  ]
}