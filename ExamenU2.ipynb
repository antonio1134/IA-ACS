{
  "nbformat": 4,
  "nbformat_minor": 0,
  "metadata": {
    "colab": {
      "provenance": [],
      "authorship_tag": "ABX9TyMbWiuBO4Car4elZcuZQ4vT",
      "include_colab_link": true
    },
    "kernelspec": {
      "name": "python3",
      "display_name": "Python 3"
    },
    "language_info": {
      "name": "python"
    }
  },
  "cells": [
    {
      "cell_type": "markdown",
      "metadata": {
        "id": "view-in-github",
        "colab_type": "text"
      },
      "source": [
        "<a href=\"https://colab.research.google.com/github/antonio1134/IA-ACS/blob/main/ExamenU2.ipynb\" target=\"_parent\"><img src=\"https://colab.research.google.com/assets/colab-badge.svg\" alt=\"Open In Colab\"/></a>"
      ]
    },
    {
      "cell_type": "code",
      "execution_count": null,
      "metadata": {
        "id": "LmOpGJfkpNSw",
        "collapsed": true
      },
      "outputs": [],
      "source": [
        "#paso 1\n",
        "!pip install tensorflowjs"
      ]
    },
    {
      "cell_type": "code",
      "source": [
        "!pip install tensorflow==2.16.0rc0"
      ],
      "metadata": {
        "id": "yFQiHdFnuVVJ",
        "collapsed": true
      },
      "execution_count": null,
      "outputs": []
    },
    {
      "cell_type": "code",
      "source": [
        "import os\n",
        "os.environ[\"TF_USE_LEGACY_KERAS\"] = \"1\""
      ],
      "metadata": {
        "id": "cqH-VzJ3wAQ3"
      },
      "execution_count": null,
      "outputs": []
    },
    {
      "cell_type": "code",
      "source": [
        "# Importar bibliotecas\n",
        "import tensorflow as tf\n",
        "import numpy as np\n",
        "\n",
        "datos_ventas = np.array([300, 450, 500, 600, 700, 800, 750, 780, 820, 850, 900, 950, 1000, 1050, 1100, 1150, 1200, 1250], dtype=float)\n",
        "\n",
        "# Preparar los datos de entrenamiento con una ventana deslizante de 12 meses\n",
        "tamaño_ventana = 12\n",
        "X = np.array([datos_ventas[i:i + tamaño_ventana] for i in range(len(datos_ventas) - tamaño_ventana)])\n",
        "y = datos_ventas[tamaño_ventana:]  # el valor de ventas del mes siguiente\n",
        "\n",
        "# Definir el modelo\n",
        "modelo = tf.keras.Sequential([\n",
        "    tf.keras.layers.InputLayer(input_shape=[tamaño_ventana]),  # Ahora la entrada espera datos de 12 meses\n",
        "    tf.keras.layers.Dense(units=64, activation='relu'),\n",
        "    tf.keras.layers.Dense(units=32, activation='relu'),\n",
        "    tf.keras.layers.Dense(units=1)  # Capa de salida que predice un valor de ventas\n",
        "])\n",
        "\n",
        "# Compilar el modelo\n",
        "modelo.compile(\n",
        "    optimizer=tf.keras.optimizers.Adam(0.01),\n",
        "    loss='mean_squared_error'\n",
        ")\n",
        "\n",
        "# Entrenar el modelo\n",
        "print(\"Comenzando entrenamiento...\")\n",
        "historial = modelo.fit(X, y, epochs=300, verbose=False)\n",
        "print(\"Modelo entrenado!\")\n",
        "\n",
        "# Guardar el modelo en formato HDF5\n",
        "modelo.save('prediccion_ventas.h5')\n",
        "\n",
        "# Convertir el modelo a formato TensorFlow.js\n",
        "!mkdir modelo_prediccion_ventas\n",
        "!tensorflowjs_converter --input_format keras prediccion_ventas.h5 modelo_prediccion_ventas\n"
      ],
      "metadata": {
        "id": "d-0VjvRc8uIj"
      },
      "execution_count": null,
      "outputs": []
    },
    {
      "cell_type": "code",
      "source": [],
      "metadata": {
        "id": "v2CCBxOw77AG"
      },
      "execution_count": null,
      "outputs": []
    }
  ]
}