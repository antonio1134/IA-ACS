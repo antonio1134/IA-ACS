{
  "nbformat": 4,
  "nbformat_minor": 0,
  "metadata": {
    "colab": {
      "provenance": [],
      "authorship_tag": "ABX9TyPmSqLXPDOa2qloZdmjv04h",
      "include_colab_link": true
    },
    "kernelspec": {
      "name": "python3",
      "display_name": "Python 3"
    },
    "language_info": {
      "name": "python"
    }
  },
  "cells": [
    {
      "cell_type": "markdown",
      "metadata": {
        "id": "view-in-github",
        "colab_type": "text"
      },
      "source": [
        "<a href=\"https://colab.research.google.com/github/antonio1134/IA-ACS/blob/main/ExamenU2.ipynb\" target=\"_parent\"><img src=\"https://colab.research.google.com/assets/colab-badge.svg\" alt=\"Open In Colab\"/></a>"
      ]
    },
    {
      "cell_type": "code",
      "execution_count": null,
      "metadata": {
        "id": "LmOpGJfkpNSw",
        "collapsed": true
      },
      "outputs": [],
      "source": [
        "#paso 1\n",
        "!pip install tensorflowjs"
      ]
    },
    {
      "cell_type": "code",
      "source": [
        "!pip install tensorflow==2.16.0rc0"
      ],
      "metadata": {
        "id": "yFQiHdFnuVVJ",
        "collapsed": true
      },
      "execution_count": null,
      "outputs": []
    },
    {
      "cell_type": "code",
      "source": [
        "import os\n",
        "os.environ[\"TF_USE_LEGACY_KERAS\"] = \"1\""
      ],
      "metadata": {
        "id": "cqH-VzJ3wAQ3"
      },
      "execution_count": null,
      "outputs": []
    },
    {
      "cell_type": "code",
      "source": [
        "# Importar bibliotecas\n",
        "import tensorflow as tf\n",
        "import numpy as np\n",
        "\n",
        "datos_ventas = np.array([105,234, 215,678, 305,890, 412,345, 527,890, 598,765, 485,321, 472,890, 522,456, 583,210, 614,789, 567,890, 433,210, 530,145, 610,234, 580,987], dtype=float)\n",
        "\n",
        "# Preparar los datos de entrenamiento con una ventana deslizante de 12 meses\n",
        "tamaño_ventana = 12\n",
        "X = np.array([datos_ventas[i:i + tamaño_ventana] for i in range(len(datos_ventas) - tamaño_ventana)])\n",
        "y = datos_ventas[tamaño_ventana:]  # el valor de ventas del mes siguiente\n",
        "\n",
        "# Definir el modelo\n",
        "modelo = tf.keras.Sequential([\n",
        "    tf.keras.layers.InputLayer(input_shape=[tamaño_ventana]),  # Ahora la entrada espera datos de 12 meses\n",
        "    tf.keras.layers.Dense(units=64, activation='relu'),\n",
        "    tf.keras.layers.Dense(units=32, activation='relu'),\n",
        "    tf.keras.layers.Dense(units=1)  # Capa de salida que predice un valor de ventas\n",
        "])\n",
        "\n",
        "# Compilar el modelo\n",
        "modelo.compile(\n",
        "    optimizer=tf.keras.optimizers.Adam(0.01),\n",
        "    loss='mean_squared_error'\n",
        ")\n",
        "\n",
        "# Entrenar el modelo\n",
        "print(\"Comenzando entrenamiento...\")\n",
        "historial = modelo.fit(X, y, epochs=300, verbose=False)\n",
        "print(\"Modelo entrenado!\")\n",
        "\n",
        "# Guardar el modelo en formato HDF5\n",
        "modelo.save('prediccion_ventas.h5')\n",
        "\n",
        "# Convertir el modelo a formato TensorFlow.js\n",
        "!mkdir modelo_prediccion_ventas\n",
        "!tensorflowjs_converter --input_format keras prediccion_ventas.h5 modelo_prediccion_ventas\n"
      ],
      "metadata": {
        "colab": {
          "base_uri": "https://localhost:8080/"
        },
        "id": "d-0VjvRc8uIj",
        "outputId": "844de8d3-de31-4483-d5ae-43a1bb60c2be"
      },
      "execution_count": 13,
      "outputs": [
        {
          "output_type": "stream",
          "name": "stdout",
          "text": [
            "Comenzando entrenamiento...\n",
            "Modelo entrenado!\n",
            "mkdir: cannot create directory ‘modelo_prediccion_ventas’: File exists\n",
            "2024-10-28 03:00:29.036597: W tensorflow/compiler/tf2tensorrt/utils/py_utils.cc:38] TF-TRT Warning: Could not find TensorRT\n",
            "WARNING:root:TensorFlow Decision Forests 1.10.0 is compatible with the following TensorFlow Versions: ['2.17.0']. However, TensorFlow 2.16.0-rc0 was detected. This can cause issues with the TF API and symbols in the custom C++ ops. See the TF and TF-DF compatibility table at https://github.com/tensorflow/decision-forests/blob/main/documentation/known_issues.md#compatibility-table.\n"
          ]
        }
      ]
    },
    {
      "cell_type": "code",
      "source": [],
      "metadata": {
        "id": "v2CCBxOw77AG"
      },
      "execution_count": null,
      "outputs": []
    }
  ]
}