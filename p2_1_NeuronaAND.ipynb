{
  "nbformat": 4,
  "nbformat_minor": 0,
  "metadata": {
    "colab": {
      "provenance": [],
      "authorship_tag": "ABX9TyOA2z/ghBIcJDwkIQfRFowQ",
      "include_colab_link": true
    },
    "kernelspec": {
      "name": "python3",
      "display_name": "Python 3"
    },
    "language_info": {
      "name": "python"
    }
  },
  "cells": [
    {
      "cell_type": "markdown",
      "metadata": {
        "id": "view-in-github",
        "colab_type": "text"
      },
      "source": [
        "<a href=\"https://colab.research.google.com/github/antonio1134/IA-ACS/blob/main/p2_1_NeuronaAND.ipynb\" target=\"_parent\"><img src=\"https://colab.research.google.com/assets/colab-badge.svg\" alt=\"Open In Colab\"/></a>"
      ]
    },
    {
      "cell_type": "markdown",
      "source": [
        "las modificaciones necesarias realizadas al programa para que pudiese funcionar con la compuerta and\n",
        "asignamos los mismos pesos [0.5, 0.5], pero la diferencia clave está en el umbral (el valor mínimo que la suma ponderada debe alcanzar para activar la salida).\n",
        "Mientras que el valor de x son las combinaciones para dicha compuerta, esta la iremos modificando por\n",
        "(0 0)\n",
        "(0 1)\n",
        "(1 0)\n",
        "\n",
        "(1 1)\n"
      ],
      "metadata": {
        "id": "zANuEyNZsK2M"
      }
    },
    {
      "cell_type": "code",
      "source": [
        "x0 = 1\n",
        "x1 = 0\n",
        "w=[0.5,0.5]\n"
      ],
      "metadata": {
        "id": "xLOQky0XsLO9"
      },
      "execution_count": 1,
      "outputs": []
    },
    {
      "cell_type": "markdown",
      "source": [
        "se llevan a cabo los calculos con los valores"
      ],
      "metadata": {
        "id": "eossG8E-sLow"
      }
    },
    {
      "cell_type": "code",
      "source": [
        "s = x0 * w[0] + x1 * w[1]"
      ],
      "metadata": {
        "id": "bq3o7eA4sMX7"
      },
      "execution_count": 2,
      "outputs": []
    },
    {
      "cell_type": "markdown",
      "source": [
        "condicional donde se aplica lo del umbral"
      ],
      "metadata": {
        "id": "CTsgDTibtE1T"
      }
    },
    {
      "cell_type": "code",
      "source": [
        "y = 1 if s >= 1 else 0"
      ],
      "metadata": {
        "id": "jn14UdVexjDL"
      },
      "execution_count": 4,
      "outputs": []
    },
    {
      "cell_type": "code",
      "source": [
        "print(f\"Entrada X0: {x0}, Entrada X1: {x1}\")\n",
        "print(f\"Resultado AND: {y}\")"
      ],
      "metadata": {
        "colab": {
          "base_uri": "https://localhost:8080/"
        },
        "id": "4Ot9NYBGfbwe",
        "outputId": "8e801539-1423-4f16-fa6c-85d83ead74cf"
      },
      "execution_count": 5,
      "outputs": [
        {
          "output_type": "stream",
          "name": "stdout",
          "text": [
            "Entrada X0: 1, Entrada X1: 0\n",
            "Resultado AND: 0\n"
          ]
        }
      ]
    },
    {
      "cell_type": "code",
      "source": [],
      "metadata": {
        "id": "YvtFzUbFfbu2"
      },
      "execution_count": null,
      "outputs": []
    }
  ]
}