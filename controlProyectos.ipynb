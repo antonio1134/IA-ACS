{
  "cells": [
    {
      "cell_type": "markdown",
      "metadata": {
        "id": "view-in-github",
        "colab_type": "text"
      },
      "source": [
        "<a href=\"https://colab.research.google.com/github/antonio1134/IA-ACS/blob/main/controlProyectos.ipynb\" target=\"_parent\"><img src=\"https://colab.research.google.com/assets/colab-badge.svg\" alt=\"Open In Colab\"/></a>"
      ]
    },
    {
      "cell_type": "markdown",
      "metadata": {
        "id": "3xbLve45o0TQ"
      },
      "source": [
        "la funcion agrega dentro de la lista emp, los valores nombre y tarifa, agregandolos a la lista emp con el metodo .append,ademas crea una lista proyectos; al final terminara imprimiendo los datos del nuevo empleado"
      ]
    },
    {
      "cell_type": "code",
      "execution_count": null,
      "metadata": {
        "id": "zDx45J1ho1o5"
      },
      "outputs": [],
      "source": [
        "def agreEmp(emp, nombre, tarifHora):\n",
        "    'Agregar empleado.'\n",
        "    emp.append({\n",
        "        'nombre': nombre,\n",
        "        'tarifa_por_hora': tarifHora,\n",
        "        'proyectos': []\n",
        "    })\n",
        "    print(f'Empleado agregado: {nombre}  Tarifa: ${tarifHora} por hora.')\n"
      ]
    },
    {
      "cell_type": "markdown",
      "metadata": {
        "id": "EfX35pn6o02M"
      },
      "source": [
        "esta funcion guardara los datos digitados por el usuario, despues de haber escogido al empleado por su nombre, insertara dentro de la lista creada anteriormente, el nombre del proyecto y las horas trabajadas, este imprimira las horas registradas, sino existe el empleado lo imprimira en pantalla\n",
        "\n"
      ]
    },
    {
      "cell_type": "code",
      "execution_count": null,
      "metadata": {
        "id": "Gmn48zPch6RH"
      },
      "outputs": [],
      "source": [
        "def regiHoTra(emp, nombre, proyecto, horaTrab):\n",
        "    'Registrar horas al proyecto.'\n",
        "    for empleado in emp:\n",
        "        if empleado['nombre'].lower() == nombre.lower():\n",
        "            empleado['proyectos'].append({\n",
        "                'nombre_proyecto': proyecto,\n",
        "                'horas_trabajadas': horaTrab\n",
        "            })\n",
        "            print(f'Horas registradas: {horaTrab} hrs   Proyecto: {proyecto} - {nombre}.')\n",
        "            return\n",
        "    print(f'No es empleado: {nombre}.')"
      ]
    },
    {
      "cell_type": "markdown",
      "metadata": {
        "id": "MIovMlcoo2Sp"
      },
      "source": [
        "hace el calculo de pago hacia el empleado tomando en consideracion la tarifa por hora,horas trabajadas y genera el total de pago, al final imprime la cantidad total de pago"
      ]
    },
    {
      "cell_type": "code",
      "execution_count": null,
      "metadata": {
        "id": "vf0rxglKo2vY"
      },
      "outputs": [],
      "source": [
        "def calcCostoProyec(empleado):\n",
        "    'Calcula Costo Proyecto y Costo Total.'\n",
        "    totCosto = 0\n",
        "    print(f'\\nProyectos para {empleado[\"nombre\"]}:')\n",
        "    for proyecto in empleado['proyectos']:\n",
        "        costoProyec = proyecto['horas_trabajadas'] * empleado['tarifa_por_hora']\n",
        "        totCosto += costoProyec\n",
        "        print(f'- Proyecto: {proyecto[\"nombre_proyecto\"]}, Horas: {proyecto[\"horas_trabajadas\"]}, Tarifa: {empleado[\"tarifa_por_hora\"]}')\n",
        "\n",
        "    print(f'Pago total: {empleado[\"nombre\"]}: {totCosto}')\n",
        "    return totCosto\n",
        "\n"
      ]
    },
    {
      "cell_type": "markdown",
      "metadata": {
        "id": "s4il8iGpo2_r"
      },
      "source": [
        "lista los empleados existentes\n"
      ]
    },
    {
      "cell_type": "code",
      "execution_count": null,
      "metadata": {
        "id": "S-39Yipro3ag"
      },
      "outputs": [],
      "source": [
        "def mosInfEmp(emp):\n",
        "    '''Muestra el resumen de todos los empleados y sus proyectos.'''\n",
        "    if not emp:\n",
        "        print('No hay empleados registrados.')\n",
        "        return\n",
        "\n",
        "    for empleado in emp:\n",
        "        calcCostoProyec(empleado)\n"
      ]
    },
    {
      "cell_type": "markdown",
      "metadata": {
        "id": "SlAbM4p_o4Dg"
      },
      "source": [
        "dentro de la funcion se define la lista emp la cual usaremos para almacenar los datos del trabajador y proyecto, dentro del ciclo while se muestra un menu de opciones, donde cada opc esta asociada a una funcionalidad, mediante el ingreso de valores y al guardarlas en las variables se las podemos incluir a las funciones"
      ]
    },
    {
      "cell_type": "code",
      "execution_count": null,
      "metadata": {
        "id": "pXCOYyDVo4v8"
      },
      "outputs": [],
      "source": [
        "def menu():\n",
        "    '''Muestra el menú de opciones al usuario.'''\n",
        "    emp = []\n",
        "\n",
        "    while True:\n",
        "        print('\\n--- Control de Horas Trabajadas ---')\n",
        "        print('1. Agregar Empleado')\n",
        "        print('2. Registrar Horas Trabajadas')\n",
        "        print('3. Mostrar Información de Empleados')\n",
        "        print('4. Salir')\n",
        "\n",
        "        opcion = input('Seleccione una opción (1-4): ')\n",
        "\n",
        "        if opcion == '1':\n",
        "            nombre = input('Ingrese el nombre del empleado: ')\n",
        "            tarifHora = input('Ingrese la tarifa por hora del empleado: ')\n",
        "\n",
        "            if not tarifHora.replace('.', '', 1).isdigit():\n",
        "                print('La tarifa por hora debe ser un número.')\n",
        "                continue\n",
        "\n",
        "            agreEmp(emp, nombre, float(tarifHora))\n",
        "        elif opcion == '2':\n",
        "            nombre = input('Ingrese el nombre del empleado: ')\n",
        "            proyecto = input('Ingrese el nombre del proyecto: ')\n",
        "            horaTrab = input('Ingrese las horas trabajadas: ')\n",
        "\n",
        "            if not horaTrab.isdigit():\n",
        "                print('Las horas trabajadas deben ser un número entero.')\n",
        "                continue\n",
        "\n",
        "            regiHoTra(emp, nombre, proyecto, int(horaTrab))\n",
        "        elif opcion == '3':\n",
        "            mosInfEmp(emp)\n",
        "        elif opcion == '4':\n",
        "            print('Cerrando...')\n",
        "            break\n",
        "        else:\n",
        "            print('Seleccione una opción válida.')\n"
      ]
    },
    {
      "cell_type": "markdown",
      "metadata": {
        "id": "GZ_3qz44o5FL"
      },
      "source": [
        "la igualacion nos ayuda para definir que la funcion menu sera la ejecutable dentro de nuestro programa"
      ]
    },
    {
      "cell_type": "code",
      "execution_count": null,
      "metadata": {
        "id": "X3rk9tiHpqgc"
      },
      "outputs": [],
      "source": [
        "if __name__ == '__main__':\n",
        "    menu()\n"
      ]
    }
  ],
  "metadata": {
    "colab": {
      "provenance": [],
      "authorship_tag": "ABX9TyN4Dq/MWYbu182YKOnc064f",
      "include_colab_link": true
    },
    "kernelspec": {
      "display_name": "Python 3",
      "name": "python3"
    },
    "language_info": {
      "name": "python"
    }
  },
  "nbformat": 4,
  "nbformat_minor": 0
}